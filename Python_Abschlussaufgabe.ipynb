{
 "cells": [
  {
   "cell_type": "markdown",
   "id": "a6816b12",
   "metadata": {},
   "source": [
    "### Abschlussaufgabe: Visuelle Suche\n",
    "Hintergrund: \n",
    "- Erweiterung der bekannten Präsentation von Bildern um multiple Stimuli.\n",
    "- Grundgerüst soll durch kleine Anpassungen klassische Paradigmen wie Pop-Out Search, Contextual Cueing, Priming, usw. testbar machen.\n",
    "\n",
    "Vorgaben:<br>\n",
    "(1) Für den Anfang werden wir nur **1 Target** und **9 Distraktoren** präsentieren.<br>\n",
    "(2) Der **core experimental loop** besteht (ausschließlich) aus der Präsentation des **Suchdisplays**.<br>\n",
    "(3) Die Position aller Stimuli im **Suchdisplay** ist fix. Es darf zu **keinen** Überlappungen einzelner Stimuli kommen.<br>\n",
    "(3) Die Position des **Targets** soll für in jedem Trial **pseudo-randomisiert** werden, d. h. jede mögliche Stimulusposition soll einmal benutzt werden.<br>\n",
    "(4) Entsprechend besteht die endgültige Abgabe aus **10 Trials**.<br>\n",
    "(5) Ausgabe der Verhaltensdaten erfolgt auf Basis des Brain Imaging Data Structure Standards (BIDS, https://bids.neuroimaging.io/). Ein Beispiel für die Strukturierung findet ihr weiter unten.\n",
    "\n",
    "Hinweise:<br>\n",
    "(1) Überlegt wie ein Beispiel Suchdisplay aussehen könnte (Form, Farbe ... des Targets, Form, Farbe ... der Distraktoren, Präsentationsdauer, usw.).<br>\n",
    "(2) Zeichnet ein Beispiel Suchdisplay auf Papier, Paint, oder ähnliches.<br>\n",
    "(3) Recherchiert in der PsychoPy Dokumentation welche Funktionen importiert werden müssen, damit ihr euer Vorhaben umsetzen könnt.<br>\n",
    "(4) Die Abbildung aus ``Marek und Pollmann (2020)`` kann Hinweise geben, wie ein Suchdisplay umgesetzt werden könnte.<br>\n",
    "(5) **Empfehlung:** Schreibt die Daten pro Trial in einen pandas dataframe. Umfassende Hintergrundinformationen findet ihr dazu auf unserem YouTube Kanal https://www.youtube.com/watch?v=xDw1PSscntc&list=PLCYbpYQOifDdPtYcBeQJ_e8-RhphiBkiy.\n",
    "\n",
    "<img src=\"Screenshot from 2023-01-09 08-45-58.png\">"
   ]
  },
  {
   "cell_type": "code",
   "execution_count": 1,
   "id": "5808ade3",
   "metadata": {},
   "outputs": [
    {
     "data": {
      "text/html": [
       "<div>\n",
       "<style scoped>\n",
       "    .dataframe tbody tr th:only-of-type {\n",
       "        vertical-align: middle;\n",
       "    }\n",
       "\n",
       "    .dataframe tbody tr th {\n",
       "        vertical-align: top;\n",
       "    }\n",
       "\n",
       "    .dataframe thead th {\n",
       "        text-align: right;\n",
       "    }\n",
       "</style>\n",
       "<table border=\"1\" class=\"dataframe\">\n",
       "  <thead>\n",
       "    <tr style=\"text-align: right;\">\n",
       "      <th></th>\n",
       "      <th>onset</th>\n",
       "      <th>trial_type</th>\n",
       "      <th>reaction_time</th>\n",
       "      <th>duration</th>\n",
       "    </tr>\n",
       "  </thead>\n",
       "  <tbody>\n",
       "    <tr>\n",
       "      <th>0</th>\n",
       "      <td>3.5237</td>\n",
       "      <td>denseMixeddD</td>\n",
       "      <td>0.8668</td>\n",
       "      <td>2.25</td>\n",
       "    </tr>\n",
       "    <tr>\n",
       "      <th>1</th>\n",
       "      <td>6.0237</td>\n",
       "      <td>sparseMixedsD</td>\n",
       "      <td>1.1001</td>\n",
       "      <td>2.25</td>\n",
       "    </tr>\n",
       "    <tr>\n",
       "      <th>2</th>\n",
       "      <td>8.5237</td>\n",
       "      <td>sparseMixedsF</td>\n",
       "      <td>1.4001</td>\n",
       "      <td>2.25</td>\n",
       "    </tr>\n",
       "    <tr>\n",
       "      <th>3</th>\n",
       "      <td>11.0237</td>\n",
       "      <td>denseMixedsD</td>\n",
       "      <td>0.9668</td>\n",
       "      <td>2.25</td>\n",
       "    </tr>\n",
       "    <tr>\n",
       "      <th>4</th>\n",
       "      <td>13.5236</td>\n",
       "      <td>denseMixedsF</td>\n",
       "      <td>0.7667</td>\n",
       "      <td>2.25</td>\n",
       "    </tr>\n",
       "  </tbody>\n",
       "</table>\n",
       "</div>"
      ],
      "text/plain": [
       "     onset     trial_type  reaction_time  duration\n",
       "0   3.5237   denseMixeddD         0.8668      2.25\n",
       "1   6.0237  sparseMixedsD         1.1001      2.25\n",
       "2   8.5237  sparseMixedsF         1.4001      2.25\n",
       "3  11.0237   denseMixedsD         0.9668      2.25\n",
       "4  13.5236   denseMixedsF         0.7667      2.25"
      ]
     },
     "execution_count": 1,
     "metadata": {},
     "output_type": "execute_result"
    }
   ],
   "source": [
    "import pandas as pd\n",
    "\n",
    "pd.read_csv(\"/home/nima/Desktop/teaching/session_4/sub-00/func/sub-00_task-sparseDense_run-1_events.tsv\", delimiter=\"\\t\").head()"
   ]
  },
  {
   "cell_type": "code",
   "execution_count": null,
   "id": "06d87a8c",
   "metadata": {},
   "outputs": [],
   "source": []
  }
 ],
 "metadata": {
  "kernelspec": {
   "display_name": "Python 3 (ipykernel)",
   "language": "python",
   "name": "python3"
  },
  "language_info": {
   "codemirror_mode": {
    "name": "ipython",
    "version": 3
   },
   "file_extension": ".py",
   "mimetype": "text/x-python",
   "name": "python",
   "nbconvert_exporter": "python",
   "pygments_lexer": "ipython3",
   "version": "3.10.6"
  }
 },
 "nbformat": 4,
 "nbformat_minor": 5
}
